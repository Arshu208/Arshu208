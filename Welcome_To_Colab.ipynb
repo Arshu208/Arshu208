{
  "cells": [
    {
      "cell_type": "markdown",
      "metadata": {
        "id": "view-in-github",
        "colab_type": "text"
      },
      "source": [
        "<a href=\"https://colab.research.google.com/github/Arshu208/Arshu208/blob/main/Welcome_To_Colab.ipynb\" target=\"_parent\"><img src=\"https://colab.research.google.com/assets/colab-badge.svg\" alt=\"Open In Colab\"/></a>"
      ]
    },
    {
      "cell_type": "code",
      "source": [
        "import requests\n",
        "\n",
        "# Configuration\n",
        "API_KEY = 'YOUR_GOOGLE_MAPS_API_KEY'\n",
        "BASE_URL = 'https://maps.googleapis.com/maps/api/directions/json'\n",
        "\n",
        "def fetch_traffic_data(start, destination):\n",
        "    \"\"\"\n",
        "    Fetch traffic data from Google Maps Directions API.\n",
        "\n",
        "    :param start: Starting point of the route.\n",
        "    :param destination: Ending point of the route.\n",
        "    :return: Dictionary with traffic data.\n",
        "    :raises Exception: For errors during API request or processing.\n",
        "    \"\"\"\n",
        "    params = {\n",
        "        'origin': start,\n",
        "        'destination': destination,\n",
        "        'key': API_KEY,\n",
        "        'departure_time': 'now',\n",
        "        'traffic_model': 'best_guess'\n",
        "    }\n",
        "    response = requests.get(BASE_URL, params=params)\n",
        "    data = response.json()\n",
        "\n",
        "    if data['status'] == 'OK':\n",
        "        route = data['routes'][0]\n",
        "        legs = route['legs'][0]\n",
        "        return {\n",
        "            'travel_time_in_traffic': legs['duration_in_traffic']['text'],\n",
        "            'distance': legs['distance']['text'],\n",
        "            'duration': legs['duration']['text'],\n",
        "            'end_address': legs['end_address'],\n",
        "            'start_address': legs['start_address'],\n",
        "            'incidents': route.get('warnings', [])\n",
        "        }\n",
        "    else:\n",
        "        raise Exception(f\"Error: {data['status']}\")\n",
        "\n",
        "def display_traffic_data(traffic_data):\n",
        "    \"\"\"\n",
        "    Display traffic data in a formatted manner.\n",
        "\n",
        "    :param traffic_data: Dictionary with traffic data.\n",
        "    \"\"\"\n",
        "    print(\"Traffic Data:\")\n",
        "    print(f\"  - Estimated Travel Time in Traffic: {traffic_data['travel_time_in_traffic']}\")\n",
        "    print(f\"  - Distance: {traffic_data['distance']}\")\n",
        "    print(f\"  - Duration: {traffic_data['duration']}\")\n",
        "    print(f\"  - Start Address: {traffic_data['start_address']}\")\n",
        "    print(f\"  - End Address: {traffic_data['end_address']}\")\n",
        "\n",
        "    if traffic_data['incidents']:\n",
        "        print(\"Incidents or Delays:\")\n",
        "        for incident in traffic_data['incidents']:\n",
        "            print(f\"  - {incident}\")\n",
        "    else:\n",
        "        print(\"No incidents or delays reported.\")\n",
        "\n",
        "def main():\n",
        "    \"\"\"\n",
        "    Main function to execute the traffic data fetching and displaying.\n",
        "    \"\"\"\n",
        "    start = input(\"Enter the starting point: \")\n",
        "    destination = input(\"Enter the destination: \")\n",
        "\n",
        "    try:\n",
        "        traffic_data = fetch_traffic_data(start, destination)\n",
        "        display_traffic_data(traffic_data)\n",
        "    except Exception as e:\n",
        "        print(f\"An error occurred: {e}\")\n",
        "\n",
        "if __name__ == \"__main__\":\n",
        "    main()\n"
      ],
      "metadata": {
        "id": "roh9ZTUciDVm"
      },
      "execution_count": null,
      "outputs": []
    }
  ],
  "metadata": {
    "colab": {
      "name": "Welcome To Colab",
      "toc_visible": true,
      "provenance": [],
      "include_colab_link": true
    },
    "kernelspec": {
      "display_name": "Python 3",
      "name": "python3"
    }
  },
  "nbformat": 4,
  "nbformat_minor": 0
}