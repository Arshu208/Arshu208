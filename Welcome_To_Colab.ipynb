{
  "cells": [
    {
      "cell_type": "markdown",
      "metadata": {
        "id": "view-in-github",
        "colab_type": "text"
      },
      "source": [
        "<a href=\"https://colab.research.google.com/github/Arshu208/Arshu208/blob/main/Welcome_To_Colab.ipynb\" target=\"_parent\"><img src=\"https://colab.research.google.com/assets/colab-badge.svg\" alt=\"Open In Colab\"/></a>"
      ]
    },
    {
      "cell_type": "code",
      "source": [
        "class Item:\n",
        "    def __init__(self, item_id, item_name, item_price):\n",
        "        self.item_id = item_id\n",
        "        self.item_name = item_name\n",
        "        self.item_price = item_price\n",
        "\n",
        "class StorageFacility:\n",
        "    def __init__(self, facility_id, facility_location):\n",
        "        self.facility_id = facility_id\n",
        "        self.facility_location = facility_location\n",
        "        self.stock = {}\n",
        "\n",
        "    def stock_item(self, item, amount):\n",
        "        self.stock[item.item_name] = amount\n",
        "\n",
        "# Initialize items and storage facilities\n",
        "item1 = Item(1, \"Item A\", 10.99)\n",
        "item2 = Item(2, \"Item B\", 15.99)\n",
        "\n",
        "facility1 = StorageFacility(1, \"Location X\")\n",
        "facility1.stock_item(item1, 100)\n",
        "facility1.stock_item(item2, 50)\n",
        "\n",
        "def monitor_stock(item_name, minimum_threshold):\n",
        "    if facility1.stock.get(item_name, 0) < minimum_threshold:\n",
        "        print(f\"Warning: {item_name} stock is below the minimum threshold!\")\n",
        "\n",
        "# Monitor stock for Item A\n",
        "monitor_stock(\"Item A\", 20)\n",
        "\n",
        "def compute_eoq(demand, order_cost, carry_cost):\n",
        "    eoq = ((2 * demand * order_cost) / carry_cost) ** 0.5\n",
        "    return eoq\n",
        "\n",
        "# Example EOQ calculation\n",
        "annual_demand = 1000  # units per year\n",
        "order_cost = 50       # cost per order\n",
        "carrying_cost = 2     # cost per unit per year\n",
        "\n",
        "eoq_for_itemA = compute_eoq(annual_demand, order_cost, carrying_cost)\n",
        "print(f\"EOQ for Item A: {eoq_for_itemA}\")\n"
      ],
      "metadata": {
        "colab": {
          "base_uri": "https://localhost:8080/"
        },
        "id": "UsojDtakWMM6",
        "outputId": "20a8848c-c6f1-4327-9163-937a383aed6e"
      },
      "execution_count": 11,
      "outputs": [
        {
          "output_type": "stream",
          "name": "stdout",
          "text": [
            "EOQ for Item A: 223.60679774997897\n"
          ]
        }
      ]
    }
  ],
  "metadata": {
    "colab": {
      "name": "Welcome To Colab",
      "toc_visible": true,
      "provenance": [],
      "include_colab_link": true
    },
    "kernelspec": {
      "display_name": "Python 3",
      "name": "python3"
    }
  },
  "nbformat": 4,
  "nbformat_minor": 0
}