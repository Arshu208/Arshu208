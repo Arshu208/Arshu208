{
  "cells": [
    {
      "cell_type": "markdown",
      "metadata": {
        "id": "view-in-github",
        "colab_type": "text"
      },
      "source": [
        "<a href=\"https://colab.research.google.com/github/Arshu208/Arshu208/blob/main/Welcome_To_Colab.ipynb\" target=\"_parent\"><img src=\"https://colab.research.google.com/assets/colab-badge.svg\" alt=\"Open In Colab\"/></a>"
      ]
    },
    {
      "cell_type": "code",
      "source": [
        "import requests\n",
        "# Constants for the weather API\n",
        "API_URL = \"http://api.openweathermap.org/data/2.5/weather\"\n",
        "API_KEY = \"2d4381cfa67af871cf52eaa2755ad0cf\"\n",
        "\n",
        "def fetch_weather_data(location):\n",
        "    # Build the request URL\n",
        "    request_url = f\"{API_URL}?q={location}&appid={API_KEY}&units=metric\"\n",
        "\n",
        "    # Send the request to the API\n",
        "    response = requests.get(request_url)\n",
        "\n",
        "    # Parse the JSON response\n",
        "    weather_data = response.json()\n",
        "\n",
        "    if response.status_code != 200:\n",
        "        return None, weather_data.get(\"message\", \"Failed to fetch weather data\")\n",
        "\n",
        "    # Extract relevant weather data\n",
        "    temperature = weather_data[\"main\"][\"temp\"]\n",
        "    weather_conditions = weather_data[\"weather\"][0][\"description\"]\n",
        "    humidity = weather_data[\"main\"][\"humidity\"]\n",
        "    wind_speed = weather_data[\"wind\"][\"speed\"]\n",
        "\n",
        "    return {\n",
        "        \"temperature\": temperature,\n",
        "        \"weather_conditions\": weather_conditions,\n",
        "        \"humidity\": humidity,\n",
        "        \"wind_speed\": wind_speed\n",
        "    }, None\n",
        "\n",
        "def display_weather_data(weather_data):\n",
        "    print(f\"Temperature: {weather_data['temperature']}°C\")\n",
        "    print(f\"Weather Conditions: {weather_data['weather_conditions']}\")\n",
        "    print(f\"Humidity: {weather_data['humidity']}%\")\n",
        "    print(f\"Wind Speed: {weather_data['wind_speed']} m/s\")\n",
        "def main():\n",
        "    # Get the location input from the user\n",
        "    location = input(\"Enter the city name or coordinates (lat,lon): \")\n",
        "\n",
        "    # Fetch the weather data for the input location\n",
        "    weather_data, error = fetch_weather_data(location)\n",
        "\n",
        "    if error:\n",
        "        print(f\"Error: {error}\")\n",
        "    else:\n",
        "        # Display the fetched weather data\n",
        "        display_weather_data(weather_data)\n",
        "\n",
        "if __name__ == \"__main__\":\n",
        "    main()"
      ],
      "metadata": {
        "colab": {
          "base_uri": "https://localhost:8080/"
        },
        "id": "Mk0sH1d0RPc9",
        "outputId": "c178b985-513f-47f1-f208-8b620a0298c7"
      },
      "execution_count": 1,
      "outputs": [
        {
          "output_type": "stream",
          "name": "stdout",
          "text": [
            "Enter the city name or coordinates (lat,lon): america\n",
            "Temperature: 28.95°C\n",
            "Weather Conditions: broken clouds\n",
            "Humidity: 62%\n",
            "Wind Speed: 0.35 m/s\n"
          ]
        }
      ]
    }
  ],
  "metadata": {
    "colab": {
      "name": "Welcome To Colab",
      "toc_visible": true,
      "provenance": [],
      "include_colab_link": true
    },
    "kernelspec": {
      "display_name": "Python 3",
      "name": "python3"
    }
  },
  "nbformat": 4,
  "nbformat_minor": 0
}