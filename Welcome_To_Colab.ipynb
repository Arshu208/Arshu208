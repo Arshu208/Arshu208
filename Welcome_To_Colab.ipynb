{
  "cells": [
    {
      "cell_type": "markdown",
      "metadata": {
        "id": "view-in-github",
        "colab_type": "text"
      },
      "source": [
        "<a href=\"https://colab.research.google.com/github/Arshu208/Arshu208/blob/main/Welcome_To_Colab.ipynb\" target=\"_parent\"><img src=\"https://colab.research.google.com/assets/colab-badge.svg\" alt=\"Open In Colab\"/></a>"
      ]
    },
    {
      "cell_type": "code",
      "source": [
        "class Product:\n",
        "    def __init__(self, product_id, name, price):\n",
        "        self.product_id = product_id\n",
        "        self.name = name\n",
        "        self.price = price\n",
        "\n",
        "class Warehouse:\n",
        "    def __init__(self, warehouse_id, location):\n",
        "        self.warehouse_id = warehouse_id\n",
        "        self.location = location\n",
        "        self.inventory = {}\n",
        "\n",
        "    def add_product(self, product, quantity):\n",
        "        self.inventory[product] = quantity\n",
        "\n",
        "# Create products and warehouses\n",
        "product1 = Product(1, \"Product A\", 10.99)\n",
        "product2 = Product(2, \"Product B\", 15.99)\n",
        "\n",
        "warehouse1 = Warehouse(1, \"Location X\")\n",
        "warehouse1.add_product(product1, 100)\n",
        "warehouse1.add_product(product2, 50)\n",
        "inventory = {\n",
        "    \"Product A\": 100,\n",
        "    \"Product B\": 50\n",
        "}\n",
        "\n",
        "def track_inventory(product_name, threshold):\n",
        "    if inventory.get(product_name, 0) < threshold:\n",
        "        print(f\"Alert: {product_name} stock is below threshold!\")\n",
        "\n",
        "# Example of tracking Product A\n",
        "track_inventory(\"Product A\", 20)\n",
        "def calculate_eoq(demand_rate, ordering_cost, holding_cost):\n",
        "    eoq = ((2 * demand_rate * ordering_cost) / holding_cost) ** 0.5\n",
        "    return eoq\n",
        "\n",
        "# Example calculation\n",
        "demand_rate = 1000  # units per year\n",
        "ordering_cost = 50  # per order\n",
        "holding_cost = 2    # per unit per year\n",
        "\n",
        "eoq_productA = calculate_eoq(demand_rate, ordering_cost, holding_cost)\n",
        "print(f\"EOQ for Product A: {eoq_productA}\")\n",
        "\n"
      ],
      "metadata": {
        "id": "UsojDtakWMM6",
        "outputId": "3b767a40-8b6a-4f2a-dd8c-144cbe2344a4",
        "colab": {
          "base_uri": "https://localhost:8080/"
        }
      },
      "execution_count": 9,
      "outputs": [
        {
          "output_type": "stream",
          "name": "stdout",
          "text": [
            "EOQ for Product A: 223.60679774997897\n"
          ]
        }
      ]
    }
  ],
  "metadata": {
    "colab": {
      "name": "Welcome To Colab",
      "toc_visible": true,
      "provenance": [],
      "include_colab_link": true
    },
    "kernelspec": {
      "display_name": "Python 3",
      "name": "python3"
    }
  },
  "nbformat": 4,
  "nbformat_minor": 0
}